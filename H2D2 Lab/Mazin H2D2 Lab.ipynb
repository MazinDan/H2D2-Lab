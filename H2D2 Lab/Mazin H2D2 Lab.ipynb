{
 "cells": [
  {
   "cell_type": "markdown",
   "id": "44a0c84c",
   "metadata": {},
   "source": [
    "## H2D2 Spectroscopy \n",
    "-------------------------------\n",
    "\n",
    "Daniel Mazin, Jessica Parades, Adrian Rojas, Aidan Garcia"
   ]
  },
  {
   "cell_type": "code",
   "execution_count": null,
   "id": "59213cdc",
   "metadata": {},
   "outputs": [],
   "source": [
    "import numpy as np \n",
    "import pylab as py\n",
    "import matplotlib.pyplot as plt\n",
    "from scipy.optimize import curve_fit\n",
    "import scipy.stats as stats\n",
    "\n",
    "def fgaussian(x, A, B, C, D):\n",
    "    return A * np.exp(-((x - B) ** 2) / (2 * C ** 2)) + D\n",
    "\n",
    "def is_float(string): \n",
    "    try:\n",
    "        float(string)\n",
    "        return True\n",
    "    except ValueError:\n",
    "        return False\n",
    "\n",
    "def fit_and_plot_gaussian(x_data, y_data, initial_guess):\n",
    "\n",
    "    # Perform the curve fitting\n",
    "    params, covariance = curve_fit(fgaussian, x_data, y_data, p0=initial_guess)\n",
    "    A_fit, B_fit, C_fit, D_fit = params\n",
    "    uncertainties = np.sqrt(np.diag(covariance))\n",
    "\n",
    "    # Plotting the data and the fit\n",
    "    plt.figure(figsize=(8, 6))\n",
    "    plt.xlabel('Wavelength')  \n",
    "    plt.ylabel('Current')\n",
    "    plt.plot(x_data, y_data, 'ro', ms=6, label='Data')\n",
    "    plt.plot(x_data, fgaussian(x_data, *params), 'b--', linewidth=2, label='Best Fit')\n",
    "    plt.legend()\n",
    "    plt.show()\n",
    "\n",
    "    # Print the fitting parameters\n",
    "    print(f'Fit Parameters:\\nA = {A_fit:.4f} ± {uncertainties[0]:.4f}\\n'\n",
    "          f'B = {B_fit:.4f} ± {uncertainties[1]:.4f}\\n'\n",
    "          f'C = {C_fit:.4f} ± {uncertainties[2]:.4f}\\n'\n",
    "          f'D = {D_fit:.4f} ± {uncertainties[3]:.4f}')\n",
    "\n",
    "datam = np.genfromtxt('DATA_MERCURY.csv', delimiter=',', dtype=str, encoding='utf-8-sig')\n",
    "\n",
    "data1 =  np.genfromtxt('DATA_N1.csv', delimiter=',', dtype=str)\n",
    "\n",
    "data2 =  np.genfromtxt('DATA_N2.csv', delimiter=',', dtype=str)\n",
    "\n",
    "data3 =  np.genfromtxt('DATA_N3.csv', delimiter=',', dtype=str)\n",
    "\n",
    "data4 =  np.genfromtxt('DATA_N4.csv', delimiter=',', dtype=str)\n",
    "\n",
    "# split columns from data into x and y values \n",
    "x_data_m = [float(row[0]) if is_float(row[0]) else np.nan for row in datam]\n",
    "y_data_m = [float(row[1]) if is_float(row[1]) else np.nan for row in datam]\n",
    "\n",
    "x_data_1 = [float(row[0]) if is_float(row[0]) else np.nan for row in data1]\n",
    "y_data_1 = [float(row[1]) if is_float(row[1]) else np.nan for row in data1]\n",
    "\n",
    "x_data_2 = [float(row[0]) if is_float(row[0]) else np.nan for row in data2]\n",
    "y_data_2 = [float(row[1]) if is_float(row[1]) else np.nan for row in data2]\n",
    "\n",
    "x_data_3 = [float(row[0]) if is_float(row[0]) else np.nan for row in data3]\n",
    "y_data_3 = [float(row[1]) if is_float(row[1]) else np.nan for row in data3]\n",
    "\n",
    "x_data_4 = [float(row[0]) if is_float(row[0]) else np.nan for row in data4]\n",
    "y_data_4 = [float(row[1]) if is_float(row[1]) else np.nan for row in data4]"
   ]
  },
  {
   "cell_type": "markdown",
   "id": "3d86d766",
   "metadata": {},
   "source": [
    "#### Mercury Calibration"
   ]
  },
  {
   "cell_type": "code",
   "execution_count": null,
   "id": "d0d310de",
   "metadata": {},
   "outputs": [],
   "source": [
    "# plot all data \n",
    "\n",
    "plt.figure(figsize=(8, 6))\n",
    "plt.scatter(x_data_m, y_data_m, label='Data', marker='.')\n",
    "plt.xlabel('Wavelength')\n",
    "plt.ylabel('Current')\n",
    "plt.title('Mercury')\n",
    "plt.legend()\n",
    "plt.show()"
   ]
  },
  {
   "cell_type": "code",
   "execution_count": null,
   "id": "33bb8c9f",
   "metadata": {},
   "outputs": [],
   "source": [
    "initial_guess = [2.4, 545.959, .004, 1.4]\n",
    "fit_and_plot_gaussian(np.array(x_data_m), np.array(y_data_m), initial_guess)"
   ]
  },
  {
   "cell_type": "markdown",
   "id": "bb2e0f77",
   "metadata": {},
   "source": [
    "### N3 Orbital"
   ]
  },
  {
   "cell_type": "code",
   "execution_count": null,
   "id": "6632354c",
   "metadata": {
    "scrolled": true
   },
   "outputs": [],
   "source": [
    "plt.figure(figsize=(8,6))\n",
    "plt.scatter(x_data_1, y_data_1, label='Data', marker='.')\n",
    "plt.xlabel('Wavelength')\n",
    "plt.ylabel('Current')\n",
    "plt.title('N3 Peaks')\n",
    "plt.legend()\n",
    "plt.show() "
   ]
  },
  {
   "cell_type": "markdown",
   "metadata": {},
   "source": [
    "### Deuterium Peak"
   ]
  },
  {
   "cell_type": "code",
   "execution_count": null,
   "id": "dd00735b",
   "metadata": {},
   "outputs": [],
   "source": [
    "x_data_1_p1 = [i for i in x_data_1 if i <= 656.06]\n",
    "d1_p1_pts = len(x_data_1_p1)\n",
    "\n",
    "y_data_1_p1 = y_data_1[:d1_p1_pts]\n",
    "\n",
    "x_data_1p1 = np.array(x_data_1_p1)\n",
    "y_data_1p1 = np.array(y_data_1_p1)\n",
    "\n",
    "initial_guess = [0.43, 655.99, .006, 0.406]\n",
    "fit_and_plot_gaussian(np.array(x_data_1p1), np.array(y_data_1p1), initial_guess)"
   ]
  },
  {
   "cell_type": "markdown",
   "metadata": {},
   "source": [
    "### Hydrogen Peak"
   ]
  },
  {
   "cell_type": "code",
   "execution_count": null,
   "id": "4faf9350",
   "metadata": {},
   "outputs": [],
   "source": [
    "x_data_1_p2 = x_data_1[d1_p1_pts:]\n",
    "\n",
    "y_data_1_p2 = y_data_1[d1_p1_pts:]\n",
    "\n",
    "x_data_1p2 = np.array(x_data_1_p2)\n",
    "y_data_1p2 = np.array(y_data_1_p2)\n",
    "\n",
    "initial_guess = [0.41, 656.16, .006, 0.402]\n",
    "fit_and_plot_gaussian(np.array(x_data_1p2), np.array(y_data_1p2), initial_guess)"
   ]
  },
  {
   "cell_type": "markdown",
   "id": "f82f3bdb",
   "metadata": {},
   "source": [
    "### N4 Orbital"
   ]
  },
  {
   "cell_type": "code",
   "execution_count": null,
   "id": "5356cf0f",
   "metadata": {},
   "outputs": [],
   "source": [
    "plt.figure(figsize=(8,6))\n",
    "plt.scatter(x_data_2, y_data_2, label='Data', marker='.')\n",
    "plt.xlabel('Wavelength')\n",
    "plt.ylabel('Current')\n",
    "plt.title('N4 Peaks')\n",
    "plt.legend()\n",
    "plt.show()"
   ]
  },
  {
   "cell_type": "markdown",
   "metadata": {},
   "source": [
    "### Deuterium Peak"
   ]
  },
  {
   "cell_type": "code",
   "execution_count": null,
   "id": "3bd7b35d",
   "metadata": {},
   "outputs": [],
   "source": [
    "x_data_2_p1 = [i for i in x_data_2 if i <= 485.92]\n",
    "d2_p1_pts = len(x_data_2_p1)\n",
    "\n",
    "y_data_2_p1 = y_data_2[:d2_p1_pts]\n",
    "\n",
    "x_data_2p1 = np.array(x_data_2_p1)\n",
    "y_data_2p1 = np.array(y_data_2_p1)\n",
    "\n",
    "initial_guess = [0.42, 485.86, .004, 0.402]\n",
    "fit_and_plot_gaussian(np.array(x_data_2p1), np.array(y_data_2p1), initial_guess)"
   ]
  },
  {
   "cell_type": "markdown",
   "metadata": {},
   "source": [
    "### Hydrogen Peak"
   ]
  },
  {
   "cell_type": "code",
   "execution_count": null,
   "id": "0433c418",
   "metadata": {},
   "outputs": [],
   "source": [
    "x_data_2_p2 = x_data_2[d2_p1_pts:]\n",
    "\n",
    "y_data_2_p2 = y_data_2[d2_p1_pts:]\n",
    "\n",
    "x_data_2p2 = np.array(x_data_2_p2)\n",
    "y_data_2p2 = np.array(y_data_2_p2)\n",
    "\n",
    "initial_guess = [0.41, 485.99, .006, 0.402]\n",
    "fit_and_plot_gaussian(np.array(x_data_2p2), np.array(y_data_2p2), initial_guess)"
   ]
  },
  {
   "cell_type": "markdown",
   "id": "cd5e2398",
   "metadata": {},
   "source": [
    "### N5 Orbital"
   ]
  },
  {
   "cell_type": "code",
   "execution_count": null,
   "id": "04366177",
   "metadata": {},
   "outputs": [],
   "source": [
    "plt.figure(figsize=(8,6))\n",
    "plt.scatter(x_data_3, y_data_3, label='Data', marker='.')\n",
    "plt.xlabel('Wavelength')\n",
    "plt.ylabel('Current')\n",
    "plt.title('N5 Peaks')\n",
    "plt.legend()\n",
    "plt.show()"
   ]
  },
  {
   "cell_type": "markdown",
   "metadata": {},
   "source": [
    "### Deuterium Peak"
   ]
  },
  {
   "cell_type": "code",
   "execution_count": null,
   "id": "59866939",
   "metadata": {},
   "outputs": [],
   "source": [
    "x_data_3_p1 = [i for i in x_data_3 if i <= 433.85]\n",
    "d3_p1_pts = len(x_data_3_p1)\n",
    "\n",
    "y_data_3_p1 = y_data_3[:d3_p1_pts]\n",
    "\n",
    "x_data_3p1 = np.array(x_data_3_p1)\n",
    "y_data_3p1 = np.array(y_data_3_p1)\n",
    "\n",
    "initial_guess = [0.4039, 433.78, .004, 0.4025]\n",
    "fit_and_plot_gaussian(np.array(x_data_3p1), np.array(y_data_3p1), initial_guess)"
   ]
  },
  {
   "cell_type": "markdown",
   "metadata": {},
   "source": [
    "### Hydrogen Peak"
   ]
  },
  {
   "cell_type": "code",
   "execution_count": null,
   "id": "d7eeffff",
   "metadata": {},
   "outputs": [],
   "source": [
    "x_data_3_p2 = x_data_3[d3_p1_pts:]\n",
    "\n",
    "y_data_3_p2 = y_data_3[d3_p1_pts:]\n",
    "\n",
    "x_data_3p2 = np.array(x_data_3_p2)\n",
    "y_data_3p2 = np.array(y_data_3_p2)\n",
    "\n",
    "initial_guess = [0.41, 433.91, .006, 0.402]\n",
    "fit_and_plot_gaussian(np.array(x_data_3p2), np.array(y_data_3p2), initial_guess)"
   ]
  },
  {
   "cell_type": "markdown",
   "id": "79090955",
   "metadata": {},
   "source": [
    "### N6 Orbital"
   ]
  },
  {
   "cell_type": "code",
   "execution_count": null,
   "id": "c5ddc8e9",
   "metadata": {},
   "outputs": [],
   "source": [
    "plt.figure(figsize=(8,6))\n",
    "plt.scatter(x_data_4, y_data_4, label='Data', marker='.')\n",
    "plt.xlabel('Wavelength')\n",
    "plt.ylabel('Current')\n",
    "plt.title('N6 Peaks')\n",
    "plt.legend()\n",
    "plt.show()"
   ]
  },
  {
   "cell_type": "markdown",
   "metadata": {},
   "source": [
    "### Deuterium Peak"
   ]
  },
  {
   "cell_type": "code",
   "execution_count": null,
   "id": "1dd484fa",
   "metadata": {},
   "outputs": [],
   "source": [
    "x_data_4_p1 = [i for i in x_data_4 if i <= 409.965]\n",
    "d4_p1_pts = len(x_data_4_p1)\n",
    "\n",
    "y_data_4_p1 = y_data_4[:d4_p1_pts]\n",
    "\n",
    "x_data_4p1 = np.array(x_data_4_p1)\n",
    "y_data_4p1 = np.array(y_data_4_p1)\n",
    "\n",
    "initial_guess = [0.40435, 409.93, .004, 0.4040]\n",
    "fit_and_plot_gaussian(np.array(x_data_4p1), np.array(y_data_4p1), initial_guess)"
   ]
  },
  {
   "cell_type": "markdown",
   "metadata": {},
   "source": [
    "### Hydrogen Peak"
   ]
  },
  {
   "cell_type": "code",
   "execution_count": null,
   "id": "b112deff",
   "metadata": {},
   "outputs": [],
   "source": [
    "x_data_4_p2 = x_data_4[d4_p1_pts:]\n",
    "\n",
    "y_data_4_p2 = y_data_4[d4_p1_pts:]\n",
    "\n",
    "x_data_4p2 = np.array(x_data_4_p2)\n",
    "y_data_4p2 = np.array(y_data_4_p2)\n",
    "\n",
    "initial_guess = [0.40435, 410.03, .004, 0.40395]\n",
    "fit_and_plot_gaussian(np.array(x_data_4p2), np.array(y_data_4p2), initial_guess)"
   ]
  },
  {
   "cell_type": "markdown",
   "id": "b9949def",
   "metadata": {},
   "source": [
    "### Plot"
   ]
  },
  {
   "cell_type": "markdown",
   "id": "d2a234c7",
   "metadata": {},
   "source": [
    "$$ \\frac{1}{\\lambda} = R \\biggl(\\frac{1}{2^2} -\\frac{1}{n^{2}_{i}} \\biggr)$$\n",
    "\n",
    "$$ y = \\frac{1}{\\lambda} \\hspace{1cm} x = \\frac{1}{n^{2}_{i}}$$\n",
    "\n",
    "$$ y = R \\biggl(\\frac{1}{2^2} -x \\biggr) \\rightarrow y = \\frac{R}{4} - Rx $$\n",
    "\n",
    "$ \\text{Note: Rydberg Constant for an Infinitely Massive Nucleus}$\n",
    "\n",
    "$$ R_{\\infty} = \\frac{1}{hc}\\frac{E_0}{2} = \\frac{1}{2} \\frac{1}{hc} a^2 m_ec^2 = \\frac{1}{1240 \\text{ eV nm}} \\frac{1}{137^2}(0.511\\times10^6 \\text{ eV}) = 0.01097 \\text{ nm}^{-1}$$\n",
    "\n",
    "$\\text{Rydberg Constant for Deuterium and Hydrogen:}$\n",
    "\n",
    "$$ R_D = \\frac{\\mu_D}{m_e}R_{\\infty}$$\n",
    "\n",
    "$$ R_H = \\frac{\\mu_H}{m_e}R_{\\infty} $$\n",
    "\n",
    "You can use these to find the reduced mass/electron mass ratio by dividing the specific Rydberg constant by the Rydberg constant for an infinitely massive nucleus.\n",
    "\n",
    "$$\\text{e.g.} \\hspace{1cm} R_D = \\frac{\\mu_D}{m_e}R_{\\infty}$$\n",
    "\n",
    "$$\\frac{\\mu_D}{m_e} = \\frac{R_{D}}{R_{\\infty}}$$\n",
    "\n",
    "$$\\frac{R_D}{R_H} = \\frac{\\frac{\\mu_D}{m_e}R_{\\infty}}{\\frac{\\mu_H}{m_e}R_{\\infty}} = \\frac{\\frac{1}{1+\\frac{m_e}{M_D}}R_{\\infty}}{\\frac{1}{1+\\frac{m_e}{M_H}}R_{\\infty}} = \\frac{1+\\frac{m_e}{M_H}}{1+\\frac{m_e}{M_D}} \\approx \\biggl(1+\\frac{m_e}{M_H}\\biggr)\\biggl(1-\\frac{m_e}{M_D}\\biggr) $$\n",
    "\n",
    "Neglecting second order terms. \n",
    "\n",
    "$$ \\frac{R_D}{R_H}\\approx 1 + m_e \\biggr( \\frac{1}{M_H} - \\frac{1}{M_D}\\biggl) = 1 + \\frac{m_e}{M_H}\\biggl(1 - \\frac{M_H}{M_D}\\biggr)$$\n",
    "\n",
    "$$ \\frac{m_e}{M_H} \\approx \\frac{\\frac{R_D}{R_H}-1}{1-\\frac{M_H}{M_D}}$$\n",
    "\n",
    "From pre-lab writeup: \n",
    "\n",
    "$$ \\frac{M_D}{M_H} = 1.999 $$\n",
    "\n",
    "$$ \\frac{m_e}{M_H} \\approx \\frac{\\frac{R_D}{R_H}-1}{1-1.999} = 2.001\\biggr( \\frac{R_D}{R_H} - 1\\biggl) $$"
   ]
  },
  {
   "cell_type": "code",
   "execution_count": null,
   "metadata": {},
   "outputs": [],
   "source": [
    "R_inf = 0.01097  # Rydberg constant for an infinitely massive nucleus in nm^-1\n",
    "\n",
    "# Function to process data and perform linear regression\n",
    "def analyze_data(n, wavelengths, refractive_indices, uncert, title, actual_ratio):\n",
    "    y = 1 / (wavelengths * refractive_indices)  # 1/lambda\n",
    "    x = 1 / n**2  # 1/n^2\n",
    "\n",
    "    # Upper end of error calculation\n",
    "    y_u = 1 / (refractive_indices * (wavelengths - uncert))\n",
    "    y_err = np.abs(y - y_u)  # Error for y\n",
    "\n",
    "    # Linear regression\n",
    "    res = stats.linregress(x, y)\n",
    "\n",
    "    # Plotting\n",
    "    plt.figure(figsize=(10, 8))\n",
    "    plt.errorbar(x, y, yerr=1e4 * y_err, fmt='.', color='blue', markersize=5, capsize=3)\n",
    "    plt.plot(x, res.intercept + res.slope * x, 'r', label='Best Fit')\n",
    "    for x_val, y_val, label in zip(x, y, ['n = 3', 'n = 4', 'n = 5', 'n = 6']):\n",
    "        plt.text(x_val, y_val, label, fontsize=9, ha='left', va='top')\n",
    "    plt.xlabel('1/n^2')\n",
    "    plt.ylabel('1/wavelength [nm^-1]')\n",
    "    plt.title(title)\n",
    "    plt.legend()\n",
    "    plt.grid(True)\n",
    "    plt.show()\n",
    "\n",
    "    # Rydberg constant and error analysis\n",
    "    R = res.slope + res.intercept * R_inf\n",
    "    reduced_mass_ratio = R / R_inf\n",
    "    error = np.abs(reduced_mass_ratio - actual_ratio)\n",
    "    print(f'Rydberg constant for {title}: {R}')\n",
    "    print(f'Reduced mass/electron mass ratio: {reduced_mass_ratio}')\n",
    "    print(f'Actual reduced mass/electron mass ratio: {actual_ratio}')\n",
    "    print(f'Absolute error for reduced mass/electron mass ratio: {error}')\n",
    "\n",
    "    return res\n",
    "\n",
    "# Common refractive index array\n",
    "i_common = np.array([1.000224458, 1.000186905, 1.000228641, 1.000228751])\n",
    "# Data for Deuterium\n",
    "n = np.array([3, 4, 5, 6])\n",
    "ld = np.array([655.9850, 485.8593, 433.7875, 409.9158])\n",
    "ud = np.array([0.0001, 0.0001, 0.0002, 0.0006])\n",
    "analyze_data(n, ld, i_common, ud, 'Deuterium', 0.999728)\n",
    "\n",
    "# Data for Hydrogen\n",
    "lh = np.array([656.1594, 485.9882, 433.9071, 410.0153])\n",
    "uh = np.array([0.0001, 0.0001, 0.0003, 0.0013])\n",
    "analyze_data(n, lh, i_common, uh, 'Hydrogen', 0.999457)"
   ]
  }
 ],
 "metadata": {
  "kernelspec": {
   "display_name": "Python 3 (ipykernel)",
   "language": "python",
   "name": "python3"
  },
  "language_info": {
   "codemirror_mode": {
    "name": "ipython",
    "version": 3
   },
   "file_extension": ".py",
   "mimetype": "text/x-python",
   "name": "python",
   "nbconvert_exporter": "python",
   "pygments_lexer": "ipython3",
   "version": "3.9.7"
  }
 },
 "nbformat": 4,
 "nbformat_minor": 5
}
